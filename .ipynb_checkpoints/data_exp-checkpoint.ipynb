{
 "cells": [
  {
   "cell_type": "code",
   "execution_count": 3,
   "id": "3306534d",
   "metadata": {},
   "outputs": [],
   "source": [
    "import os\n",
    "\n",
    "import numpy as np\n",
    "\n",
    "import pandas as pd\n",
    "\n",
    "import matplotlib.pyplot as plt"
   ]
  },
  {
   "cell_type": "code",
   "execution_count": 4,
   "id": "34fabf4c",
   "metadata": {},
   "outputs": [
    {
     "data": {
      "text/plain": [
       "['employement_rate_aged_15_64.csv',\n",
       " 'Zips',\n",
       " '.ipynb_checkpoints',\n",
       " 'GDP.csv',\n",
       " 'data_exp.ipynb',\n",
       " 'Pop_Growth_USA.csv',\n",
       " 'Housing_units.csv',\n",
       " 'unemployement_rate.csv',\n",
       " 'PPI_Transport_warehouse.csv',\n",
       " 'consumer_sentiment.csv',\n",
       " 'CSUSHPISA.csv',\n",
       " 'Mortgage_rate.csv',\n",
       " 'Unemp_rate.csv',\n",
       " 'New_privately_owned_housing_units.csv',\n",
       " 'Working_age_population.csv',\n",
       " 'PPI_Building.csv']"
      ]
     },
     "execution_count": 4,
     "metadata": {},
     "output_type": "execute_result"
    }
   ],
   "source": [
    "os.listdir()"
   ]
  },
  {
   "cell_type": "code",
   "execution_count": 28,
   "id": "0d6923ac",
   "metadata": {},
   "outputs": [],
   "source": [
    "df_emp_rate = pd.read_csv('employement_rate_aged_15_64.csv')\n",
    "\n",
    "df_gdp = pd.read_csv('GDP.csv')\n",
    "\n",
    "df_pop_growth = pd.read_csv('Pop_Growth_USA.csv')\n",
    "\n",
    "df_housing_units = pd.read_csv('Housing_units.csv')\n",
    "\n",
    "df_unemp_rate = pd.read_csv('Unemp_rate.csv')\n",
    "\n",
    "df_ppi_trans = pd.read_csv('PPI_Transport_warehouse.csv')\n",
    "\n",
    "df_consumer_sentiment = pd.read_csv('consumer_sentiment.csv')\n",
    "\n",
    "#df_consumer_sentiment.reset_index(inplace=True)\n",
    "\n",
    "#df_cons_senti = df_consumer_sentiment[['level_1' ,'level_0', 'level_2']][1:]\n",
    "\n",
    "df_Mortgage_rate = pd.read_csv('Mortgage_rate.csv')\n",
    "\n",
    "df_new_owned_housing_units = pd.read_csv('New_privately_owned_housing_units.csv')\n",
    "\n",
    "df_working_age_pop = pd.read_csv('Working_age_population.csv')\n",
    "\n",
    "df_ppi_building = pd.read_csv('PPI_Building.csv')\n",
    "\n",
    "df_target = pd.read_csv('CSUSHPISA.csv')[:]"
   ]
  },
  {
   "cell_type": "code",
   "execution_count": 45,
   "id": "f5c2e340",
   "metadata": {},
   "outputs": [
    {
     "name": "stdout",
     "output_type": "stream",
     "text": [
      "(260, 2)\n",
      "(86, 2)\n",
      "(62, 2)\n",
      "(85, 2)\n",
      "(260, 2)\n",
      "(201, 2)\n",
      "(261, 1)\n",
      "(260, 2)\n",
      "(260, 2)\n",
      "(23, 2)\n",
      "(237, 2)\n",
      "(273, 2)\n"
     ]
    }
   ],
   "source": [
    "for i in [df_emp_rate , df_gdp , df_pop_growth , df_housing_units , df_unemp_rate , df_ppi_trans , df_consumer_sentiment , df_Mortgage_rate , df_new_owned_housing_units , df_working_age_pop , df_ppi_building , df_target]:\n",
    "    print(i.shape)"
   ]
  },
  {
   "cell_type": "code",
   "execution_count": 35,
   "id": "7fb2337d",
   "metadata": {},
   "outputs": [
    {
     "data": {
      "text/plain": [
       "260"
      ]
     },
     "execution_count": 35,
     "metadata": {},
     "output_type": "execute_result"
    }
   ],
   "source": [
    "len(df_emp_rate)"
   ]
  },
  {
   "cell_type": "code",
   "execution_count": 49,
   "id": "fee059ac",
   "metadata": {},
   "outputs": [],
   "source": [
    "#df_consumer_sentiment.reset_index(inplace=True)"
   ]
  },
  {
   "cell_type": "code",
   "execution_count": 50,
   "id": "8feb13fe",
   "metadata": {},
   "outputs": [],
   "source": [
    "def interpolate_quarterly_to_monthly(quarterly_data):\n",
    "    \n",
    "    quarterly_data.index = pd.to_datetime(quarterly_data.index)\n",
    "    \n",
    "    # Resample the data to monthly frequency and perform linear interpolation\n",
    "    monthly_data = quarterly_data.resample('M').interpolate(method='linear')\n",
    "    \n",
    "    # Reset the index to have the \"DATE\" column back in the DataFrame\n",
    "    monthly_data.reset_index(inplace=True)\n",
    "    \n",
    "    return monthly_data"
   ]
  },
  {
   "cell_type": "code",
   "execution_count": 51,
   "id": "b44c6390",
   "metadata": {},
   "outputs": [
    {
     "data": {
      "text/html": [
       "<div>\n",
       "<style scoped>\n",
       "    .dataframe tbody tr th:only-of-type {\n",
       "        vertical-align: middle;\n",
       "    }\n",
       "\n",
       "    .dataframe tbody tr th {\n",
       "        vertical-align: top;\n",
       "    }\n",
       "\n",
       "    .dataframe thead th {\n",
       "        text-align: right;\n",
       "    }\n",
       "</style>\n",
       "<table border=\"1\" class=\"dataframe\">\n",
       "  <thead>\n",
       "    <tr style=\"text-align: right;\">\n",
       "      <th></th>\n",
       "      <th>level_0</th>\n",
       "      <th>level_1</th>\n",
       "      <th>level_2</th>\n",
       "      <th>Table 1: The Index of Consumer Sentiment</th>\n",
       "    </tr>\n",
       "  </thead>\n",
       "  <tbody>\n",
       "    <tr>\n",
       "      <th>0</th>\n",
       "      <td>Month</td>\n",
       "      <td>Year</td>\n",
       "      <td>Index</td>\n",
       "      <td>NaN</td>\n",
       "    </tr>\n",
       "    <tr>\n",
       "      <th>1</th>\n",
       "      <td>1</td>\n",
       "      <td>2002</td>\n",
       "      <td>93</td>\n",
       "      <td>NaN</td>\n",
       "    </tr>\n",
       "    <tr>\n",
       "      <th>2</th>\n",
       "      <td>2</td>\n",
       "      <td>2002</td>\n",
       "      <td>90.7</td>\n",
       "      <td>NaN</td>\n",
       "    </tr>\n",
       "    <tr>\n",
       "      <th>3</th>\n",
       "      <td>3</td>\n",
       "      <td>2002</td>\n",
       "      <td>95.7</td>\n",
       "      <td>NaN</td>\n",
       "    </tr>\n",
       "    <tr>\n",
       "      <th>4</th>\n",
       "      <td>4</td>\n",
       "      <td>2002</td>\n",
       "      <td>93</td>\n",
       "      <td>NaN</td>\n",
       "    </tr>\n",
       "    <tr>\n",
       "      <th>...</th>\n",
       "      <td>...</td>\n",
       "      <td>...</td>\n",
       "      <td>...</td>\n",
       "      <td>...</td>\n",
       "    </tr>\n",
       "    <tr>\n",
       "      <th>256</th>\n",
       "      <td>4</td>\n",
       "      <td>2023</td>\n",
       "      <td>63.5</td>\n",
       "      <td>NaN</td>\n",
       "    </tr>\n",
       "    <tr>\n",
       "      <th>257</th>\n",
       "      <td>5</td>\n",
       "      <td>2023</td>\n",
       "      <td>59.2</td>\n",
       "      <td>NaN</td>\n",
       "    </tr>\n",
       "    <tr>\n",
       "      <th>258</th>\n",
       "      <td>6</td>\n",
       "      <td>2023</td>\n",
       "      <td>64.4</td>\n",
       "      <td>NaN</td>\n",
       "    </tr>\n",
       "    <tr>\n",
       "      <th>259</th>\n",
       "      <td>7</td>\n",
       "      <td>2023</td>\n",
       "      <td>71.6</td>\n",
       "      <td>NaN</td>\n",
       "    </tr>\n",
       "    <tr>\n",
       "      <th>260</th>\n",
       "      <td>8</td>\n",
       "      <td>2023</td>\n",
       "      <td>69.5</td>\n",
       "      <td>NaN</td>\n",
       "    </tr>\n",
       "  </tbody>\n",
       "</table>\n",
       "<p>261 rows × 4 columns</p>\n",
       "</div>"
      ],
      "text/plain": [
       "    level_0 level_1 level_2  Table 1: The Index of Consumer Sentiment\n",
       "0     Month    Year   Index                                       NaN\n",
       "1         1    2002      93                                       NaN\n",
       "2         2    2002    90.7                                       NaN\n",
       "3         3    2002    95.7                                       NaN\n",
       "4         4    2002      93                                       NaN\n",
       "..      ...     ...     ...                                       ...\n",
       "256       4    2023    63.5                                       NaN\n",
       "257       5    2023    59.2                                       NaN\n",
       "258       6    2023    64.4                                       NaN\n",
       "259       7    2023    71.6                                       NaN\n",
       "260       8    2023    69.5                                       NaN\n",
       "\n",
       "[261 rows x 4 columns]"
      ]
     },
     "execution_count": 51,
     "metadata": {},
     "output_type": "execute_result"
    }
   ],
   "source": [
    "df_consumer_sentiment"
   ]
  },
  {
   "cell_type": "code",
   "execution_count": 55,
   "id": "4f11f537",
   "metadata": {},
   "outputs": [],
   "source": [
    "#df_cons_senti = df_consumer_sentiment[['level_1' ,'level_0', 'level_2']][1:]"
   ]
  },
  {
   "cell_type": "code",
   "execution_count": null,
   "id": "aab90bf8",
   "metadata": {},
   "outputs": [],
   "source": []
  }
 ],
 "metadata": {
  "kernelspec": {
   "display_name": "Python 3 (ipykernel)",
   "language": "python",
   "name": "python3"
  },
  "language_info": {
   "codemirror_mode": {
    "name": "ipython",
    "version": 3
   },
   "file_extension": ".py",
   "mimetype": "text/x-python",
   "name": "python",
   "nbconvert_exporter": "python",
   "pygments_lexer": "ipython3",
   "version": "3.10.10"
  }
 },
 "nbformat": 4,
 "nbformat_minor": 5
}
